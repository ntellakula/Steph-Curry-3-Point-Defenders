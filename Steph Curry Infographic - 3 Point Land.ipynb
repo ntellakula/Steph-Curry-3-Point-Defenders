{
 "cells": [
  {
   "cell_type": "markdown",
   "metadata": {},
   "source": [
    "## Introduction\n",
    "\n",
    "I'm a big basketball fan. Lucky for me, basketball has recently under gone a statistical explosion into the \"analytics era\". New, novel, advanced stats are collected by even the most common websites such as Basketball Reference and NBA's own stats site.\n",
    "\n",
    "That being said, the methods for accessing the data may not be the easiest or most straightforward. The data I needed to create this was sourced in this way:\n",
    "https://www.reddit.com/r/sportsbook/comments/59hsno/best_website_to_pull_nba_statistics_into_excel/.\n",
    "\n",
    "With the data sourced, this brief analysis focused on probably the greatest shooter of all time, Steph Curry. His shot is nothing short of impeccable and shoots at mind-boggling rates he has changed the current game of basketball. With that in mind, I wanted to find out who defends him the most, who does the best job, and who does Steph roast from beyond the arc."
   ]
  },
  {
   "cell_type": "markdown",
   "metadata": {},
   "source": [
    "As always, first we load the necessary libraries. There will be warnings and such due to tidyverse's masking of other functions:"
   ]
  },
  {
   "cell_type": "code",
   "execution_count": 1,
   "metadata": {},
   "outputs": [
    {
     "name": "stderr",
     "output_type": "stream",
     "text": [
      "Registered S3 methods overwritten by 'ggplot2':\n",
      "  method         from \n",
      "  [.quosures     rlang\n",
      "  c.quosures     rlang\n",
      "  print.quosures rlang\n",
      "Registered S3 method overwritten by 'rvest':\n",
      "  method            from\n",
      "  read_xml.response xml2\n",
      "-- Attaching packages --------------------------------------- tidyverse 1.2.1 --\n",
      "v ggplot2 3.1.1       v purrr   0.3.2  \n",
      "v tibble  2.1.1       v dplyr   0.8.0.1\n",
      "v tidyr   0.8.3       v stringr 1.4.0  \n",
      "v ggplot2 3.1.1       v forcats 0.4.0  \n",
      "-- Conflicts ------------------------------------------ tidyverse_conflicts() --\n",
      "x dplyr::filter() masks stats::filter()\n",
      "x dplyr::lag()    masks stats::lag()\n"
     ]
    }
   ],
   "source": [
    "library(readr)\n",
    "library(tidyverse)"
   ]
  },
  {
   "cell_type": "markdown",
   "metadata": {},
   "source": [
    "Now we import the data into the environment:"
   ]
  },
  {
   "cell_type": "code",
   "execution_count": 3,
   "metadata": {},
   "outputs": [
    {
     "name": "stderr",
     "output_type": "stream",
     "text": [
      "Parsed with column specification:\n",
      "cols(\n",
      "  resource = col_character(),\n",
      "  parameters__LeagueID = col_character(),\n",
      "  parameters__Season = col_character(),\n",
      "  parameters__SeasonType = col_character(),\n",
      "  parameters__PORound = col_double(),\n",
      "  parameters__PerMode = col_character(),\n",
      "  parameters__Outcome = col_character(),\n",
      "  parameters__DateFrom = col_character(),\n",
      "  parameters__DateTo = col_character(),\n",
      "  parameters__DefTeamID = col_character(),\n",
      "  parameters__OffTeamID = col_character(),\n",
      "  parameters__OffPlayerID = col_double(),\n",
      "  parameters__DefPlayerID = col_character(),\n",
      "  resultSets__name = col_character(),\n",
      "  resultSets__headers = col_character(),\n",
      "  resultSets__rowSet = col_character()\n",
      ")\n"
     ]
    },
    {
     "data": {
      "text/html": [
       "<table>\n",
       "<thead><tr><th scope=col>resource</th><th scope=col>parameters__LeagueID</th><th scope=col>parameters__Season</th><th scope=col>parameters__SeasonType</th><th scope=col>parameters__PORound</th><th scope=col>parameters__PerMode</th><th scope=col>parameters__Outcome</th><th scope=col>parameters__DateFrom</th><th scope=col>parameters__DateTo</th><th scope=col>parameters__DefTeamID</th><th scope=col>parameters__OffTeamID</th><th scope=col>parameters__OffPlayerID</th><th scope=col>parameters__DefPlayerID</th><th scope=col>resultSets__name</th><th scope=col>resultSets__headers</th><th scope=col>resultSets__rowSet</th></tr></thead>\n",
       "<tbody>\n",
       "\t<tr><td>leagueseasonmatchups </td><td>00                   </td><td>2018-19              </td><td>Regular Season       </td><td> 0                   </td><td>Totals               </td><td>null                 </td><td>null                 </td><td>null                 </td><td>null                 </td><td>null                 </td><td>201939               </td><td>null                 </td><td>SeasonMatchups       </td><td>OFF_TEAM_ID          </td><td>1610612744           </td></tr>\n",
       "\t<tr><td>NA                   </td><td>NA                   </td><td>NA                   </td><td>NA                   </td><td>NA                   </td><td>NA                   </td><td>NA                   </td><td>NA                   </td><td>NA                   </td><td>NA                   </td><td>NA                   </td><td>    NA               </td><td>NA                   </td><td>NA                   </td><td>OFF_TEAM_ABBREVIATION</td><td>GSW                  </td></tr>\n",
       "\t<tr><td>NA                   </td><td>NA                   </td><td>NA                   </td><td>NA                   </td><td>NA                   </td><td>NA                   </td><td>NA                   </td><td>NA                   </td><td>NA                   </td><td>NA                   </td><td>NA                   </td><td>    NA               </td><td>NA                   </td><td>NA                   </td><td>OFF_TEAM_CITY        </td><td>Golden State         </td></tr>\n",
       "\t<tr><td>NA                   </td><td>NA                   </td><td>NA                   </td><td>NA                   </td><td>NA                   </td><td>NA                   </td><td>NA                   </td><td>NA                   </td><td>NA                   </td><td>NA                   </td><td>NA                   </td><td>    NA               </td><td>NA                   </td><td>NA                   </td><td>OFF_TEAM_NICKNAME    </td><td>Warriors             </td></tr>\n",
       "\t<tr><td>NA                   </td><td>NA                   </td><td>NA                   </td><td>NA                   </td><td>NA                   </td><td>NA                   </td><td>NA                   </td><td>NA                   </td><td>NA                   </td><td>NA                   </td><td>NA                   </td><td>    NA               </td><td>NA                   </td><td>NA                   </td><td>OFF_PLAYER_ID        </td><td>201939               </td></tr>\n",
       "\t<tr><td>NA                   </td><td>NA                   </td><td>NA                   </td><td>NA                   </td><td>NA                   </td><td>NA                   </td><td>NA                   </td><td>NA                   </td><td>NA                   </td><td>NA                   </td><td>NA                   </td><td>    NA               </td><td>NA                   </td><td>NA                   </td><td>OFF_PLAYER_NAME      </td><td>Stephen Curry        </td></tr>\n",
       "</tbody>\n",
       "</table>\n"
      ],
      "text/latex": [
       "\\begin{tabular}{r|llllllllllllllll}\n",
       " resource & parameters\\_\\_LeagueID & parameters\\_\\_Season & parameters\\_\\_SeasonType & parameters\\_\\_PORound & parameters\\_\\_PerMode & parameters\\_\\_Outcome & parameters\\_\\_DateFrom & parameters\\_\\_DateTo & parameters\\_\\_DefTeamID & parameters\\_\\_OffTeamID & parameters\\_\\_OffPlayerID & parameters\\_\\_DefPlayerID & resultSets\\_\\_name & resultSets\\_\\_headers & resultSets\\_\\_rowSet\\\\\n",
       "\\hline\n",
       "\t leagueseasonmatchups      & 00                        & 2018-19                   & Regular Season            &  0                        & Totals                    & null                      & null                      & null                      & null                      & null                      & 201939                    & null                      & SeasonMatchups            & OFF\\_TEAM\\_ID           & 1610612744               \\\\\n",
       "\t NA                        & NA                        & NA                        & NA                        & NA                        & NA                        & NA                        & NA                        & NA                        & NA                        & NA                        &     NA                    & NA                        & NA                        & OFF\\_TEAM\\_ABBREVIATION & GSW                      \\\\\n",
       "\t NA                        & NA                        & NA                        & NA                        & NA                        & NA                        & NA                        & NA                        & NA                        & NA                        & NA                        &     NA                    & NA                        & NA                        & OFF\\_TEAM\\_CITY         & Golden State             \\\\\n",
       "\t NA                        & NA                        & NA                        & NA                        & NA                        & NA                        & NA                        & NA                        & NA                        & NA                        & NA                        &     NA                    & NA                        & NA                        & OFF\\_TEAM\\_NICKNAME     & Warriors                 \\\\\n",
       "\t NA                        & NA                        & NA                        & NA                        & NA                        & NA                        & NA                        & NA                        & NA                        & NA                        & NA                        &     NA                    & NA                        & NA                        & OFF\\_PLAYER\\_ID         & 201939                   \\\\\n",
       "\t NA                        & NA                        & NA                        & NA                        & NA                        & NA                        & NA                        & NA                        & NA                        & NA                        & NA                        &     NA                    & NA                        & NA                        & OFF\\_PLAYER\\_NAME       & Stephen Curry            \\\\\n",
       "\\end{tabular}\n"
      ],
      "text/markdown": [
       "\n",
       "| resource | parameters__LeagueID | parameters__Season | parameters__SeasonType | parameters__PORound | parameters__PerMode | parameters__Outcome | parameters__DateFrom | parameters__DateTo | parameters__DefTeamID | parameters__OffTeamID | parameters__OffPlayerID | parameters__DefPlayerID | resultSets__name | resultSets__headers | resultSets__rowSet |\n",
       "|---|---|---|---|---|---|---|---|---|---|---|---|---|---|---|---|\n",
       "| leagueseasonmatchups  | 00                    | 2018-19               | Regular Season        |  0                    | Totals                | null                  | null                  | null                  | null                  | null                  | 201939                | null                  | SeasonMatchups        | OFF_TEAM_ID           | 1610612744            |\n",
       "| NA                    | NA                    | NA                    | NA                    | NA                    | NA                    | NA                    | NA                    | NA                    | NA                    | NA                    |     NA                | NA                    | NA                    | OFF_TEAM_ABBREVIATION | GSW                   |\n",
       "| NA                    | NA                    | NA                    | NA                    | NA                    | NA                    | NA                    | NA                    | NA                    | NA                    | NA                    |     NA                | NA                    | NA                    | OFF_TEAM_CITY         | Golden State          |\n",
       "| NA                    | NA                    | NA                    | NA                    | NA                    | NA                    | NA                    | NA                    | NA                    | NA                    | NA                    |     NA                | NA                    | NA                    | OFF_TEAM_NICKNAME     | Warriors              |\n",
       "| NA                    | NA                    | NA                    | NA                    | NA                    | NA                    | NA                    | NA                    | NA                    | NA                    | NA                    |     NA                | NA                    | NA                    | OFF_PLAYER_ID         | 201939                |\n",
       "| NA                    | NA                    | NA                    | NA                    | NA                    | NA                    | NA                    | NA                    | NA                    | NA                    | NA                    |     NA                | NA                    | NA                    | OFF_PLAYER_NAME       | Stephen Curry         |\n",
       "\n"
      ],
      "text/plain": [
       "  resource             parameters__LeagueID parameters__Season\n",
       "1 leagueseasonmatchups 00                   2018-19           \n",
       "2 NA                   NA                   NA                \n",
       "3 NA                   NA                   NA                \n",
       "4 NA                   NA                   NA                \n",
       "5 NA                   NA                   NA                \n",
       "6 NA                   NA                   NA                \n",
       "  parameters__SeasonType parameters__PORound parameters__PerMode\n",
       "1 Regular Season          0                  Totals             \n",
       "2 NA                     NA                  NA                 \n",
       "3 NA                     NA                  NA                 \n",
       "4 NA                     NA                  NA                 \n",
       "5 NA                     NA                  NA                 \n",
       "6 NA                     NA                  NA                 \n",
       "  parameters__Outcome parameters__DateFrom parameters__DateTo\n",
       "1 null                null                 null              \n",
       "2 NA                  NA                   NA                \n",
       "3 NA                  NA                   NA                \n",
       "4 NA                  NA                   NA                \n",
       "5 NA                  NA                   NA                \n",
       "6 NA                  NA                   NA                \n",
       "  parameters__DefTeamID parameters__OffTeamID parameters__OffPlayerID\n",
       "1 null                  null                  201939                 \n",
       "2 NA                    NA                        NA                 \n",
       "3 NA                    NA                        NA                 \n",
       "4 NA                    NA                        NA                 \n",
       "5 NA                    NA                        NA                 \n",
       "6 NA                    NA                        NA                 \n",
       "  parameters__DefPlayerID resultSets__name resultSets__headers  \n",
       "1 null                    SeasonMatchups   OFF_TEAM_ID          \n",
       "2 NA                      NA               OFF_TEAM_ABBREVIATION\n",
       "3 NA                      NA               OFF_TEAM_CITY        \n",
       "4 NA                      NA               OFF_TEAM_NICKNAME    \n",
       "5 NA                      NA               OFF_PLAYER_ID        \n",
       "6 NA                      NA               OFF_PLAYER_NAME      \n",
       "  resultSets__rowSet\n",
       "1 1610612744        \n",
       "2 GSW               \n",
       "3 Golden State      \n",
       "4 Warriors          \n",
       "5 201939            \n",
       "6 Stephen Curry     "
      ]
     },
     "metadata": {},
     "output_type": "display_data"
    }
   ],
   "source": [
    "#raw csv import\n",
    "source <- read_csv(\"C:/Users/NTellaku/Documents/R/Steph Curry Infographic/leagueseasonmatchups.csv\")\n",
    "\n",
    "#data labels\n",
    "labels <- source %>% \n",
    "  select(resultSets__headers) %>% \n",
    "  slice(1:34)\n",
    "\n",
    "#data values\n",
    "source_info <- source %>% \n",
    "    select(resultSets__rowSet)\n",
    "head(source)"
   ]
  },
  {
   "cell_type": "markdown",
   "metadata": {},
   "source": [
    "The resulting output doesn't look to make too much sense. The way the JSON converts the data into a .csv is the reason why. A deeper look shows that most of the data is empty and every piece of info that's needed is within the last two columns: <code>resultSets__headers</code> and <code>resultSets__rowSet</code>. <code>labels</code> contains the column <code>resultSets__headers</code> which looks to be all the row names. <code>source_info</code> contains the column <code>resultSets__rowSet</code> which seems to contain the actual usable data.\n",
    "\n",
    "As this is a one-column csv from a JSON, we now have to actually wrangle the data set:"
   ]
  },
  {
   "cell_type": "code",
   "execution_count": 10,
   "metadata": {},
   "outputs": [],
   "source": [
    "#initializing empty matrix\n",
    "source_split <- as_tibble(matrix(, nrow = 34, ncol = 350))"
   ]
  },
  {
   "cell_type": "markdown",
   "metadata": {},
   "source": [
    "We create an empty matrix. Now we need to take all the information in <code>resultSets__headers</code> and <code>resultSets__rowSet</code> and put it into the matrix so we have a usable Data Frame:"
   ]
  },
  {
   "cell_type": "code",
   "execution_count": 11,
   "metadata": {},
   "outputs": [
    {
     "data": {
      "text/html": [
       "<table>\n",
       "<thead><tr><th scope=col>OFF_TEAM_ID</th><th scope=col>OFF_TEAM_ABBREVIATION</th><th scope=col>OFF_TEAM_CITY</th><th scope=col>OFF_TEAM_NICKNAME</th><th scope=col>OFF_PLAYER_ID</th><th scope=col>OFF_PLAYER_NAME</th><th scope=col>DEF_TEAM_ID</th><th scope=col>DEF_TEAM_ABBREVIATION</th><th scope=col>DEF_TEAM_CITY</th><th scope=col>DEF_TEAM_NICKNAME</th><th scope=col>...</th><th scope=col>FGA</th><th scope=col>FGA_DIFF</th><th scope=col>FG_PCT</th><th scope=col>FG3M</th><th scope=col>FG3A</th><th scope=col>FG3_PCT</th><th scope=col>FTM</th><th scope=col>SFL</th><th scope=col>DEF_FOULS</th><th scope=col>OFF_FOULS</th></tr></thead>\n",
       "<tbody>\n",
       "\t<tr><td>1610612744                    </td><td>GSW                           </td><td>Golden State                  </td><td>Warriors                      </td><td>201939                        </td><td>Stephen Curry                 </td><td>1610612750                    </td><td>MIN                           </td><td>Minnesota                     </td><td>Timberwolves                  </td><td>...                           </td><td>30                            </td><td>0.7594971965098634294385432473</td><td>0.567000                      </td><td>11                            </td><td>18                            </td><td>0.611000                      </td><td>2                             </td><td>0                             </td><td>0                             </td><td>0                             </td></tr>\n",
       "\t<tr><td>1610612744                    </td><td>GSW                           </td><td>Golden State                  </td><td>Warriors                      </td><td>201939                        </td><td>Stephen Curry                 </td><td>1610612758                    </td><td>SAC                           </td><td>Sacramento                    </td><td>Kings                         </td><td>...                           </td><td>34                            </td><td>0.9513727579666160849772382398</td><td>0.529000                      </td><td>10                            </td><td>21                            </td><td>0.476000                      </td><td>5                             </td><td>1                             </td><td>0                             </td><td>0                             </td></tr>\n",
       "\t<tr><td>1610612744                    </td><td>GSW                           </td><td>Golden State                  </td><td>Warriors                      </td><td>201939                        </td><td>Stephen Curry                 </td><td>1610612762                    </td><td>UTA                           </td><td>Utah                          </td><td>Jazz                          </td><td>...                           </td><td>30                            </td><td>0.8791040212443095599393019727</td><td>0.433000                      </td><td>5                             </td><td>16                            </td><td>0.313000                      </td><td>3                             </td><td>2                             </td><td>0                             </td><td>3                             </td></tr>\n",
       "\t<tr><td>1610612744                    </td><td>GSW                           </td><td>Golden State                  </td><td>Warriors                      </td><td>201939                        </td><td>Stephen Curry                 </td><td>1610612743                    </td><td>DEN                           </td><td>Denver                        </td><td>Nuggets                       </td><td>...                           </td><td>21                            </td><td>0.7169933990895295902883156297</td><td>0.524000                      </td><td>10                            </td><td>18                            </td><td>0.556000                      </td><td>4                             </td><td>1                             </td><td>2                             </td><td>1                             </td></tr>\n",
       "\t<tr><td>1610612744                    </td><td>GSW                           </td><td>Golden State                  </td><td>Warriors                      </td><td>201939                        </td><td>Stephen Curry                 </td><td>1610612747                    </td><td>LAL                           </td><td>Los Angeles                   </td><td>Lakers                        </td><td>...                           </td><td>17                            </td><td>0.6142340212443095599393019727</td><td>0.412000                      </td><td>5                             </td><td>11                            </td><td>0.455000                      </td><td>0                             </td><td>0                             </td><td>0                             </td><td>0                             </td></tr>\n",
       "\t<tr><td>1610612744                    </td><td>GSW                           </td><td>Golden State                  </td><td>Warriors                      </td><td>201939                        </td><td>Stephen Curry                 </td><td>1610612757                    </td><td>POR                           </td><td>Portland                      </td><td>Trail Blazers                 </td><td>...                           </td><td>26                            </td><td>0.9975273937784522003034901366</td><td>0.462000                      </td><td>6                             </td><td>14                            </td><td>0.429000                      </td><td>8                             </td><td>3                             </td><td>0                             </td><td>2                             </td></tr>\n",
       "</tbody>\n",
       "</table>\n"
      ],
      "text/latex": [
       "\\begin{tabular}{r|llllllllllllllllllllllllllllllllll}\n",
       " OFF\\_TEAM\\_ID & OFF\\_TEAM\\_ABBREVIATION & OFF\\_TEAM\\_CITY & OFF\\_TEAM\\_NICKNAME & OFF\\_PLAYER\\_ID & OFF\\_PLAYER\\_NAME & DEF\\_TEAM\\_ID & DEF\\_TEAM\\_ABBREVIATION & DEF\\_TEAM\\_CITY & DEF\\_TEAM\\_NICKNAME & ... & FGA & FGA\\_DIFF & FG\\_PCT & FG3M & FG3A & FG3\\_PCT & FTM & SFL & DEF\\_FOULS & OFF\\_FOULS\\\\\n",
       "\\hline\n",
       "\t 1610612744                     & GSW                            & Golden State                   & Warriors                       & 201939                         & Stephen Curry                  & 1610612750                     & MIN                            & Minnesota                      & Timberwolves                   & ...                            & 30                             & 0.7594971965098634294385432473 & 0.567000                       & 11                             & 18                             & 0.611000                       & 2                              & 0                              & 0                              & 0                             \\\\\n",
       "\t 1610612744                     & GSW                            & Golden State                   & Warriors                       & 201939                         & Stephen Curry                  & 1610612758                     & SAC                            & Sacramento                     & Kings                          & ...                            & 34                             & 0.9513727579666160849772382398 & 0.529000                       & 10                             & 21                             & 0.476000                       & 5                              & 1                              & 0                              & 0                             \\\\\n",
       "\t 1610612744                     & GSW                            & Golden State                   & Warriors                       & 201939                         & Stephen Curry                  & 1610612762                     & UTA                            & Utah                           & Jazz                           & ...                            & 30                             & 0.8791040212443095599393019727 & 0.433000                       & 5                              & 16                             & 0.313000                       & 3                              & 2                              & 0                              & 3                             \\\\\n",
       "\t 1610612744                     & GSW                            & Golden State                   & Warriors                       & 201939                         & Stephen Curry                  & 1610612743                     & DEN                            & Denver                         & Nuggets                        & ...                            & 21                             & 0.7169933990895295902883156297 & 0.524000                       & 10                             & 18                             & 0.556000                       & 4                              & 1                              & 2                              & 1                             \\\\\n",
       "\t 1610612744                     & GSW                            & Golden State                   & Warriors                       & 201939                         & Stephen Curry                  & 1610612747                     & LAL                            & Los Angeles                    & Lakers                         & ...                            & 17                             & 0.6142340212443095599393019727 & 0.412000                       & 5                              & 11                             & 0.455000                       & 0                              & 0                              & 0                              & 0                             \\\\\n",
       "\t 1610612744                     & GSW                            & Golden State                   & Warriors                       & 201939                         & Stephen Curry                  & 1610612757                     & POR                            & Portland                       & Trail Blazers                  & ...                            & 26                             & 0.9975273937784522003034901366 & 0.462000                       & 6                              & 14                             & 0.429000                       & 8                              & 3                              & 0                              & 2                             \\\\\n",
       "\\end{tabular}\n"
      ],
      "text/markdown": [
       "\n",
       "| OFF_TEAM_ID | OFF_TEAM_ABBREVIATION | OFF_TEAM_CITY | OFF_TEAM_NICKNAME | OFF_PLAYER_ID | OFF_PLAYER_NAME | DEF_TEAM_ID | DEF_TEAM_ABBREVIATION | DEF_TEAM_CITY | DEF_TEAM_NICKNAME | ... | FGA | FGA_DIFF | FG_PCT | FG3M | FG3A | FG3_PCT | FTM | SFL | DEF_FOULS | OFF_FOULS |\n",
       "|---|---|---|---|---|---|---|---|---|---|---|---|---|---|---|---|---|---|---|---|---|\n",
       "| 1610612744                     | GSW                            | Golden State                   | Warriors                       | 201939                         | Stephen Curry                  | 1610612750                     | MIN                            | Minnesota                      | Timberwolves                   | ...                            | 30                             | 0.7594971965098634294385432473 | 0.567000                       | 11                             | 18                             | 0.611000                       | 2                              | 0                              | 0                              | 0                              |\n",
       "| 1610612744                     | GSW                            | Golden State                   | Warriors                       | 201939                         | Stephen Curry                  | 1610612758                     | SAC                            | Sacramento                     | Kings                          | ...                            | 34                             | 0.9513727579666160849772382398 | 0.529000                       | 10                             | 21                             | 0.476000                       | 5                              | 1                              | 0                              | 0                              |\n",
       "| 1610612744                     | GSW                            | Golden State                   | Warriors                       | 201939                         | Stephen Curry                  | 1610612762                     | UTA                            | Utah                           | Jazz                           | ...                            | 30                             | 0.8791040212443095599393019727 | 0.433000                       | 5                              | 16                             | 0.313000                       | 3                              | 2                              | 0                              | 3                              |\n",
       "| 1610612744                     | GSW                            | Golden State                   | Warriors                       | 201939                         | Stephen Curry                  | 1610612743                     | DEN                            | Denver                         | Nuggets                        | ...                            | 21                             | 0.7169933990895295902883156297 | 0.524000                       | 10                             | 18                             | 0.556000                       | 4                              | 1                              | 2                              | 1                              |\n",
       "| 1610612744                     | GSW                            | Golden State                   | Warriors                       | 201939                         | Stephen Curry                  | 1610612747                     | LAL                            | Los Angeles                    | Lakers                         | ...                            | 17                             | 0.6142340212443095599393019727 | 0.412000                       | 5                              | 11                             | 0.455000                       | 0                              | 0                              | 0                              | 0                              |\n",
       "| 1610612744                     | GSW                            | Golden State                   | Warriors                       | 201939                         | Stephen Curry                  | 1610612757                     | POR                            | Portland                       | Trail Blazers                  | ...                            | 26                             | 0.9975273937784522003034901366 | 0.462000                       | 6                              | 14                             | 0.429000                       | 8                              | 3                              | 0                              | 2                              |\n",
       "\n"
      ],
      "text/plain": [
       "  OFF_TEAM_ID OFF_TEAM_ABBREVIATION OFF_TEAM_CITY OFF_TEAM_NICKNAME\n",
       "1 1610612744  GSW                   Golden State  Warriors         \n",
       "2 1610612744  GSW                   Golden State  Warriors         \n",
       "3 1610612744  GSW                   Golden State  Warriors         \n",
       "4 1610612744  GSW                   Golden State  Warriors         \n",
       "5 1610612744  GSW                   Golden State  Warriors         \n",
       "6 1610612744  GSW                   Golden State  Warriors         \n",
       "  OFF_PLAYER_ID OFF_PLAYER_NAME DEF_TEAM_ID DEF_TEAM_ABBREVIATION DEF_TEAM_CITY\n",
       "1 201939        Stephen Curry   1610612750  MIN                   Minnesota    \n",
       "2 201939        Stephen Curry   1610612758  SAC                   Sacramento   \n",
       "3 201939        Stephen Curry   1610612762  UTA                   Utah         \n",
       "4 201939        Stephen Curry   1610612743  DEN                   Denver       \n",
       "5 201939        Stephen Curry   1610612747  LAL                   Los Angeles  \n",
       "6 201939        Stephen Curry   1610612757  POR                   Portland     \n",
       "  DEF_TEAM_NICKNAME ... FGA FGA_DIFF                       FG_PCT   FG3M FG3A\n",
       "1 Timberwolves      ... 30  0.7594971965098634294385432473 0.567000 11   18  \n",
       "2 Kings             ... 34  0.9513727579666160849772382398 0.529000 10   21  \n",
       "3 Jazz              ... 30  0.8791040212443095599393019727 0.433000 5    16  \n",
       "4 Nuggets           ... 21  0.7169933990895295902883156297 0.524000 10   18  \n",
       "5 Lakers            ... 17  0.6142340212443095599393019727 0.412000 5    11  \n",
       "6 Trail Blazers     ... 26  0.9975273937784522003034901366 0.462000 6    14  \n",
       "  FG3_PCT  FTM SFL DEF_FOULS OFF_FOULS\n",
       "1 0.611000 2   0   0         0        \n",
       "2 0.476000 5   1   0         0        \n",
       "3 0.313000 3   2   0         3        \n",
       "4 0.556000 4   1   2         1        \n",
       "5 0.455000 0   0   0         0        \n",
       "6 0.429000 8   3   0         2        "
      ]
     },
     "metadata": {},
     "output_type": "display_data"
    }
   ],
   "source": [
    "#loop to go through the rows and add each data point to the matrix\n",
    "i <- 1\n",
    "value <- i + 33\n",
    "j <- 1\n",
    "while (value <= 11900) {\n",
    "  source_split[, j] <- source_info %>% \n",
    "    slice(i:value)\n",
    "  i <- i + 34\n",
    "  value <- i + 33\n",
    "  j <- j + 1\n",
    "}\n",
    "\n",
    "#transposing and converting the matrix into a tidyverse data frame\n",
    "analysis <- as_tibble(t(source_split))\n",
    "colnames(analysis) <- t(labels)\n",
    "head(analysis)"
   ]
  },
  {
   "cell_type": "markdown",
   "metadata": {},
   "source": [
    "From the JSON, we were able to extract a Tibble listing Steph Curry's performance against the other teams he played against and various statistics such as fouls, 3-point percentage, etc. With this, we want to make our analytical data set that contains the information we need and new variables we may need to create."
   ]
  },
  {
   "cell_type": "code",
   "execution_count": 12,
   "metadata": {},
   "outputs": [
    {
     "data": {
      "text/html": [
       "<table>\n",
       "<thead><tr><th scope=col>name_poss</th><th scope=col>POSS</th><th scope=col>FG3M</th><th scope=col>FG3A</th><th scope=col>FG3_PCT</th></tr></thead>\n",
       "<tbody>\n",
       "\t<tr><td>Tyus Jones (147)              </td><td>147                           </td><td>11                            </td><td>18                            </td><td>0.611                         </td></tr>\n",
       "\t<tr><td>De'Aaron Fox (133)            </td><td>133                           </td><td>10                            </td><td>21                            </td><td>0.476                         </td></tr>\n",
       "\t<tr><td>Ricky Rubio (127)             </td><td>127                           </td><td> 5                            </td><td>16                            </td><td>0.313                         </td></tr>\n",
       "\t<tr><td>Jamal Murray (109)            </td><td>109                           </td><td>10                            </td><td>18                            </td><td>0.556                         </td></tr>\n",
       "\t<tr><td>Kentavious Caldwell-Pope (103)</td><td>103                           </td><td> 5                            </td><td>11                            </td><td>0.455                         </td></tr>\n",
       "\t<tr><td>Damian Lillard (97)           </td><td> 97                           </td><td> 6                            </td><td>14                            </td><td>0.429                         </td></tr>\n",
       "</tbody>\n",
       "</table>\n"
      ],
      "text/latex": [
       "\\begin{tabular}{r|lllll}\n",
       " name\\_poss & POSS & FG3M & FG3A & FG3\\_PCT\\\\\n",
       "\\hline\n",
       "\t Tyus Jones (147)               & 147                            & 11                             & 18                             & 0.611                         \\\\\n",
       "\t De'Aaron Fox (133)             & 133                            & 10                             & 21                             & 0.476                         \\\\\n",
       "\t Ricky Rubio (127)              & 127                            &  5                             & 16                             & 0.313                         \\\\\n",
       "\t Jamal Murray (109)             & 109                            & 10                             & 18                             & 0.556                         \\\\\n",
       "\t Kentavious Caldwell-Pope (103) & 103                            &  5                             & 11                             & 0.455                         \\\\\n",
       "\t Damian Lillard (97)            &  97                            &  6                             & 14                             & 0.429                         \\\\\n",
       "\\end{tabular}\n"
      ],
      "text/markdown": [
       "\n",
       "| name_poss | POSS | FG3M | FG3A | FG3_PCT |\n",
       "|---|---|---|---|---|\n",
       "| Tyus Jones (147)               | 147                            | 11                             | 18                             | 0.611                          |\n",
       "| De'Aaron Fox (133)             | 133                            | 10                             | 21                             | 0.476                          |\n",
       "| Ricky Rubio (127)              | 127                            |  5                             | 16                             | 0.313                          |\n",
       "| Jamal Murray (109)             | 109                            | 10                             | 18                             | 0.556                          |\n",
       "| Kentavious Caldwell-Pope (103) | 103                            |  5                             | 11                             | 0.455                          |\n",
       "| Damian Lillard (97)            |  97                            |  6                             | 14                             | 0.429                          |\n",
       "\n"
      ],
      "text/plain": [
       "  name_poss                      POSS FG3M FG3A FG3_PCT\n",
       "1 Tyus Jones (147)               147  11   18   0.611  \n",
       "2 De'Aaron Fox (133)             133  10   21   0.476  \n",
       "3 Ricky Rubio (127)              127   5   16   0.313  \n",
       "4 Jamal Murray (109)             109  10   18   0.556  \n",
       "5 Kentavious Caldwell-Pope (103) 103   5   11   0.455  \n",
       "6 Damian Lillard (97)             97   6   14   0.429  "
      ]
     },
     "metadata": {},
     "output_type": "display_data"
    }
   ],
   "source": [
    "analysis2 <- analysis %>% \n",
    "  mutate(name_poss = paste(analysis$DEF_PLAYER_NAME, \" (\", analysis$POSS, \")\",\n",
    "                           sep = \"\")) %>% \n",
    "  slice(1:26) %>% \n",
    "  select(name_poss, POSS, FG3M, FG3A, FG3_PCT) %>% \n",
    "  transform(POSS = as.numeric(POSS), FG3M = as.numeric(FG3M),\n",
    "            FG3A = as.numeric(FG3A), FG3_PCT = as.numeric(FG3_PCT))\n",
    "#Analysis dataset complete\n",
    "\n",
    "head(analysis2)"
   ]
  },
  {
   "cell_type": "markdown",
   "metadata": {},
   "source": [
    "We now have what we need. The players who defended Steph Curry, the number of possessions, the number of threes he made and attempted, and the corresponding percentage. The <code>slice</code> function can be less manual, but the intention was to have players who guarded Steph a minimum of 40 total possessions through the season. I'll leave <code>slice</code> for now, but the ultimate goal of the code can be better replaced with <code>filter(POSS >= 40)</code>.\n",
    "\n",
    "With the analytical data set complete, we create the visual to check out Steph's performance against his primary defenders:"
   ]
  },
  {
   "cell_type": "code",
   "execution_count": 13,
   "metadata": {},
   "outputs": [
    {
     "data": {
      "image/png": "[encoded data removed]",
      "text/plain": [
       "plot without title"
      ]
     },
     "metadata": {},
     "output_type": "display_data"
    }
   ],
   "source": [
    "analysis2 %>%\n",
    "  ggplot(aes(x = reorder(name_poss, +FG3_PCT),\n",
    "             y = FG3_PCT,\n",
    "             size = FG3A,\n",
    "             fill = FG3_PCT)) +\n",
    "  geom_point(alpha = 0.75,\n",
    "             shape = 21,\n",
    "             color = \"black\") +\n",
    "  coord_flip() +\n",
    "  labs(size = \"3-Point Field\\nGoals Attempted\",\n",
    "       title = \"Steph Curry's 3-Point Field Goal Percentage when Guarded by:\",\n",
    "       subtitle = \"Among players that guarded Steph at least 40 possessions in 2018-2019 Regular Season\",\n",
    "       y = \"3-Point Field Goal Percentage\",\n",
    "       x = \"Player Name (Possessions)\") +\n",
    "  scale_y_continuous(limits = c(0.1, 0.9),\n",
    "                     breaks = seq(0.1, 0.9, 0.1)) +\n",
    "  scale_size_continuous(range = c(1, 10)) +\n",
    "  theme(legend.position = c(0.15, 0.85),\n",
    "        panel.border = element_rect(colour = \"black\", fill = NA),\n",
    "        plot.background = element_rect(fill = \"floralwhite\"),\n",
    "        panel.background = element_rect(fill = \"white\"),\n",
    "        panel.grid.major = element_line(size = 0.5, linetype = \"solid\",\n",
    "                                        colour = \"#ececec\"),\n",
    "        panel.grid.minor = element_line(size = 0.5, linetype = \"solid\",\n",
    "                                        colour = \"#ececec\"),\n",
    "        legend.key = element_rect(colour = \"transparent\", fill = \"transparent\"),\n",
    "        legend.background = element_blank(),\n",
    "        legend.box.background = element_rect(colour = \"black\"),\n",
    "        plot.title = element_text(face = \"bold\", size = 11, hjust = 0.5),\n",
    "        plot.subtitle = element_text(face = \"italic\", size = 9, hjust = 0.5)) +\n",
    "  geom_hline(yintercept = 0.423, linetype = 2, color = \"gray55\") +\n",
    "  annotate(geom = \"label\",\n",
    "           x = 3, y = .49,\n",
    "           label = \"Season Average\\n42.3%\",\n",
    "           fontface = \"bold\") +\n",
    "  scale_fill_gradient2(low = (\"#0571b0\"),\n",
    "                       mid = \"white\",\n",
    "                       high = (\"#ca0020\"),\n",
    "                       midpoint = 0.423,\n",
    "                       guide = FALSE)"
   ]
  },
  {
   "cell_type": "markdown",
   "metadata": {},
   "source": [
    "Poor Frank and Tyus Jones seem to get cooked the most, whereas Austin Rivers does a surprisngly good job defending Steph from the 3-point line."
   ]
  },
  {
   "cell_type": "code",
   "execution_count": null,
   "metadata": {},
   "outputs": [],
   "source": []
  }
 ],
 "metadata": {
  "kernelspec": {
   "display_name": "R",
   "language": "R",
   "name": "ir"
  },
  "language_info": {
   "codemirror_mode": "r",
   "file_extension": ".r",
   "mimetype": "text/x-r-source",
   "name": "R",
   "pygments_lexer": "r",
   "version": "3.6.1"
  }
 },
 "nbformat": 4,
 "nbformat_minor": 2
}
